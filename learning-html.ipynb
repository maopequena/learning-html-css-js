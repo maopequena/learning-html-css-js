{
 "cells": [
  {
   "cell_type": "markdown",
   "metadata": {},
   "source": [
    "#### AULA 1: Introdução\n",
    "\n",
    "##### <a href=\"https://www.w3schools.com/html/html5_syntax.asp\">GUIA DE ESTILO</a>\n",
    "##### <a href=\"https://www.w3schools.com/tags/default.asp\">LISTA ALFABÉTICA DE TAGS HTML</a>\n",
    "\n",
    "###### HTML = Hyper Text Markup Language. É a linguagem de marcação padrão para criar páginas da Web. O HTML descreve a estrutura de uma página da Web e consiste ofde vários elementos, que informam ao navegador como exibir o conteúdo. Os elementos HTML rotulam os pedaços do conteúdo, como \"isto é um cabeçalho\", \"isto é um parágrafo\", \"isto é um link\", etc.\n",
    "\n",
    "###### XHTML = EXtensible HyperText Markup Language. É uma versão de HTML mais restrita, mais baseada em XML. O XHTML é HTML definido como um aplicativo XML. A maioria dos navegadores oferece suporte para XHTML.\n",
    "\n",
    "###### Exemplo de um documento HTML simples"
   ]
  },
  {
   "cell_type": "code",
   "execution_count": null,
   "metadata": {
    "vscode": {
     "languageId": "html"
    }
   },
   "outputs": [],
   "source": [
    "<!DOCTYPE html>\n",
    "<html>\n",
    "<head>\n",
    "<title>Título da página</title>\n",
    "</head>\n",
    "<body>\n",
    "\n",
    "<h1>Meu primeiro cabeçalho</h1>\n",
    "<p>Meu primeiro parágrafo.</p>\n",
    "\n",
    "</body>\n",
    "</html>"
   ]
  },
  {
   "cell_type": "markdown",
   "metadata": {},
   "source": [
    "###### A declaração `<!DOCTYPE html>` define que este é um documento HTML5.\n",
    "\n",
    "###### O elemento `<html>` `</html>` é o elemento raiz de uma página HTML. Este elemento é obrigatório.\n",
    "\n",
    "###### O elemento `<head>` `</head>` contém meta-informações sobre a página HTML.\n",
    "\n",
    "###### O elemento `<title>` `</title>` especifica um título para a página HTML , que será exibido na barra de título do navegador ou na aba da página.\n",
    "\n",
    "###### O elemento `<body>` `</body>` define o corpo do documento, e é um contêiner para todo o conteúdo visível da página, como cabeçalhos, parágrafos, imagens, hiperlinks, tabelas, listas, etc.\n",
    "\n",
    "###### O elemento `<h1>` `</h1>` define um cabeçalho grande.\n",
    "\n",
    "###### O elemento `<p>` `</p>` define um parágrafo.\n",
    "\n",
    "##### O que é um elemento HTML?\n",
    "###### Ele consiste da tag de abertura, da tag de fechamento e do seu conteúdo. `elemento = <tag>Todo o Conteúdo</tag>`. <b>Observação:</b> alguns elementos HTML não têm conteúdo (como o elemento `<br>`). Esses elementos são chamados de \"elementos vazios\" e não têm uma tag de fechamento!\n",
    "##### Porém, se o conteúdo da página será lido por XML, recomenda-se usar a sintaxe `<tag atributo=\"\" />`.\n",
    "\n",
    "<img src='./src/img/HTML-page-structure.png' alt='Estrutura de uma página HTML'>\n",
    "\n",
    "###### As versões mais importantes do HTML desde 1989 são:\n",
    "###### - 1991: invention of HTML\n",
    "###### - 2000: XHTML 1.0\n",
    "###### - 2014: HTML5\n",
    "###### - atual, HTML 5.2\n",
    "\n",
    "###### Quando um URL não define um nome de arquivo no final (como \"https://www.w3schools.com/\"), o servidor apenas adiciona um nome de arquivo padrão, como \"index.html\", \"index.htm\", \"default.html\" ou \"default.htm\". Se seu servidor estiver configurado apenas com \"index.html\" como o nome de arquivo padrão, seu arquivo deve se chamar \"index.html\", e não \"default.html\". Entretanto, é possível configurar um servidor com mais de um nome de arquivo padrão; geralmente quantos desejar.\n",
    "\n",
    "<a href=\"https://www.youtube.com/watch?v=it1rTvBcfRg&list=PLP9IO4UYNF0VdAajP_5pYG-jG2JRrG72s\">Tutorial inicial em vídeo</a>"
   ]
  },
  {
   "cell_type": "markdown",
   "metadata": {},
   "source": [
    "#### AULA 2: Editores HTML\n",
    "\n",
    "##### Uma página HTML pode ter as seguintes extensões: `.html` ou `.htm`.\n",
    "\n",
    "###### UTF-8 é a codificação preferida para páginas HTML.\n",
    "\n",
    "<a href=\"https://www.youtube.com/watch?v=bBP0ckEln4Y&list=PLP9IO4UYNF0VdAajP_5pYG-jG2JRrG72s&index=2\">Tutorial sobre editores HTML em vídeo</a>"
   ]
  },
  {
   "cell_type": "markdown",
   "metadata": {},
   "source": [
    "#### AULA 3: Exemplos básicos\n",
    "\n",
    "###### Todos os documentos HTML devem começar com uma declaração do tipo de documento: `<!DOCTYPE html>`. Isso representa o tipo de documento e ajuda os navegadores a exibirem corretamente as páginas da web. Essa declaração só deve aparecer uma vez, no início da página e antes de qualquer tag HTML. Aqui, não importa a capitalização.\n",
    "\n",
    "###### O documento HTML em si começa com a tag `<html>` e termina com a tag `</html>`.\n",
    "\n",
    "###### A parte visível do documento HTML fica entre as tags `<body>` e `</body>`.\n",
    "\n",
    "###### Títulos usam as tags `<h1>` a `<h6>`. \n",
    "\n",
    "###### Links usam a tag `<a>`. Para especificar o destino do link, usa-se o atributo `href=\"\"`. \n",
    "\n",
    "###### Usa-se a tag `<img>` para definir imagens no HTML. Alguns atributos das imagens são: `src=\"\"` (que define a origem da imagem, i.e. um caminho ou um link), `alt=\"\"` (OBRIGATÓRIO, que define o texto alternativo, caso a imagem não seja exibida ou para leitores de tela), `width=\"XXpx\"` (para definir a largura) e `height=\"XXpx\"` (para definir a altura).\n",
    "\n",
    "###### É possível aninhar elementos HTML, isto é, os elementos podem conter outros elementos. Todos os documentos HTML consistem de elementos HTML aninhados. P.ex.: `<h1>` está aninhado em ``<body>`, que está aninhado em `<head>`, que está aninhado em `<html>`. Ao aninhar é recomendado indentar os elementos aninhados para melhor visualização do código, mas isso não interfere na visualização da página no navegador.\n",
    "\n",
    "###### Alguns elementos HTML podem ser exibidos corretamente mesmo se a tag de fechamento não existir. Porém, não se deve confiar nisso! Podem ocorrer erros inesperados ao esquecer a tag de fechamento!\n",
    "\n",
    "###### A tag `<br>` define uma quebra de linha e é um elemento vazio, i.e. não tem tag de fechamento.\n",
    "\n",
    "###### Tags HTML não diferenciam maiúsculas de minúsculas: `<P>` é o mesmo que `<p>`. O padrão HTML não requer tags em minúsculas, mas recomenda-se usar minúsculas no HTML, e tipos de documentos mais restritos, como XHTML, exigem as minúsculas.\n",
    "\n",
    "<a href=\"https://www.youtube.com/watch?v=vIoO52MdZFE&list=PLP9IO4UYNF0VdAajP_5pYG-jG2JRrG72s&index=3\">Tutorial em vídeo sobre elementos</a>"
   ]
  },
  {
   "cell_type": "markdown",
   "metadata": {},
   "source": [
    "#### AULA 4: Atributos HTML\n",
    "\n",
    "###### Todos os elementos HTML podem ter atributos (ênfase em \"podem\").\n",
    "#### Atributos fornecem informações adicionais sobre elementos HTML.\n",
    "###### São sempre especificados na tag de abertura e geralmente vêm em pares, como `nome=\"valor\"`.\n",
    "\n",
    "###### Há duas maneiras de especificar a URL no atributo `src`: \n",
    "\n",
    "###### 1. URL absoluto: links para uma imagem externa que está hospedada em outro site. P.ex.: src=\"https://www.w3schools.com/images/img_girl.jpg\". As imagens externas podem ter copyright, então se você não tem permissão para usá-las, pode estar violando leis de copyright. Além disso, não é possível controlar imagens externas; elas podem ser removidas ou alteradas a qualquer momento.\n",
    "\n",
    "###### 2. URL relativo: links para uma imagem hospedada dentro de um site. Neste caso, o URL não inclui o nome de domínio. Se o URL começa SEM uma barra (\"/\"), ele é relativo à página atual. P.ex.: src=\"img_girl.jpg\". Se o URL começa COM uma barra (\"/\"), ele é relativo ao domínio. P.ex.: src=\"/images/img_girl.jpg\". É sempre melhor usar URLs relativos, já que eles não quebram se você alterar o domínio.\n",
    "\n",
    "###### Usa-se o atributo `style=\"\"` para definir o estilo de um elemento, como cor, fonte, tamanho e mais. NÃO ESQUECER DO PONTO-E-VÍRGULA NO FINAL DO ESTILO!\n",
    "\n",
    "###### Deve-se sempre incluir o atributo `lang` na tag `<html>`, para especificar o idioma da página Web. Isso auxilia mecanismos de pesquisa e navegadores com o idioma da página. O português do Brasil é definido como `lang=\"pt-BR\"`. Outros códigos de idioma: https://www.w3schools.com/tags/ref_language_codes.asp.\n",
    "\n",
    "###### O atributo `title` define mais informações sobre um elemento. O valor definido neste atributo será exibido como uma dica ao passar o mouse sobre o elemento.\n",
    "\n",
    "###### O padrão HTML não requer nomes de atributos em minúsculas. Todos os atributos podem ser escritos com maiúsculas também, como `title=` or `TITLE=`. No entanto, recomenda-se usar minúsculas e tipos de documentos mais restritos, como XHTML, exigem as minúsculas.\n",
    "\n",
    "###### O padrão HTML não requer aspas para os valores dos atributos. No entanto, recomenda-se o seu uso e tipos de documentos mais restritos, como XHTML, exigem as aspas. Algumas vezes as aspas são obrigatórias. P.ex. o atributo `title=About W3Schools` não é exibido corretamente por causa do espaço.\n",
    "\n",
    "###### É mais comum usar aspas duplas com atributos do HTML, mas também é possível usar aspas simples. Em alguns casos em que o atributo em si contém aspas duplas, é necessário usar aspas simples, ou vice-versa.\n",
    "\n",
    "#### Lista de todos os atributos de cada elemento HTML: https://www.w3schools.com/tags/ref_attributes.asp.\n",
    "\n",
    "###### Alguns atributos que acho importante saber:\n",
    "###### - `accesskey` (atributo global, define um atalho de teclado para ativar/dar foco a um elemento)\n",
    "###### - `alt` (define um texto alternativo quando o elemento original não é exibido)\n",
    "###### - `autofocus` (define qual elemento deve ter o foco automaticamente ao carregar a página)\n",
    "###### - `autoplay` (define que o áudio/vídeo começará a reproduzir assim que estiver pronto)\n",
    "###### - `class` (define uma ou mais classes para serem alteradas em uma folha de estilo CSS)\n",
    "###### - `color` (define a cor do elemento, aceita um nome de cor em inglês, como \"aquamarine\", ou um código hexadecimal, como #ab99cf)\n",
    "###### - `contenteditable` (define se o conteúdo de um elemento pode ou não ser editado)\n",
    "###### - `disabled` (define se o elemento/grupo de elementos deve ser desativado)\n",
    "###### - `download` (especifica que o alvo do URL será baixado quando o usuário clicar no link)\n",
    "###### - `draggable` (define se um elemento pode ou não ser arrastado)\n",
    "###### - `formaction` (define para onde enviar os dados do formulário quando ele é enviado. Apenas para `type=\"submit\"`), etc, etc, etc...\n",
    "\n",
    "<a href=\"https://www.youtube.com/watch?v=yMX901oVtn8&list=PLP9IO4UYNF0VdAajP_5pYG-jG2JRrG72s&index=4\">Tutorial em vídeo sobre atributos</a>"
   ]
  },
  {
   "cell_type": "markdown",
   "metadata": {},
   "source": [
    "#### AULA 5: Cabeçalhos\n",
    "\n",
    "###### Cabeçalhos HTML são títulos ou subtítulos que se deseja exibir em uma página da Web.\n",
    "\n",
    "###### `<h1>` até `<h6>`, do maior para o menor, ou mais importante para menos importante.\n",
    "\n",
    "###### Os navegadores adicionam automaticamente espaço em branco (uma margem) antes e depois de um cabeçalho.\n",
    "\n",
    "###### Cabeçalhos são importantes porque os mecanismos de pesquisa os usam ara indexar a estrutura e o conteúdo das páginas. Os usuários geralmente leem a página pelos cabeçalhos. Use cabeçalhos `<h1>` para o título principal, seguidos dos cabeçalhos `<h2>`, `<h3>` e assim por diante. USE APENAS PARA CABEÇALHOS, NÃO PARA DESTACAR UM TEXTO NA TELA.\n",
    "\n",
    "###### Cada cabeçalho HTML tem um tamanho padrão, porém é possível definir o tamanho de qualquer cabeçalho com o atributo `style`, usando a propriedade CSS `font-size`.\n",
    "\n",
    "<a href=\"https://www.youtube.com/watch?v=9gHPpwq6IaY&list=PLP9IO4UYNF0VdAajP_5pYG-jG2JRrG72s&index=5\">Tutorial em vídeo sobre cabeçalhos</a>"
   ]
  },
  {
   "cell_type": "markdown",
   "metadata": {},
   "source": [
    "#### AULA 6: Parágrafos\n",
    "\n",
    "###### Um parágrafo, identificado pelo elemento `<p></p>`, sempre começa em uma nova linha, e os navegadores adicionam automaticamente um espaço em branco (uma margem) antes e depois do parágrafo.\n",
    "\n",
    "###### Não sabemos como o HTML será exibido: telas pequenas ou grandes, ou janelas redimensionadas produzem diferentes resultados. Com o HTML, não é possível alterar a exibição com espaços ou linhas adicionais no código HTML. O navegador removerá automaticamente qualquer espaço ou linha adicionalao exibir a página:"
   ]
  },
  {
   "cell_type": "code",
   "execution_count": null,
   "metadata": {
    "vscode": {
     "languageId": "html"
    }
   },
   "outputs": [],
   "source": [
    "<p>\n",
    "Este parágrafo\n",
    "tem várias linhas\n",
    "no código-fonte,\n",
    "mas o navegador\n",
    "ignora isso.\n",
    "</p>\n",
    "\n",
    "<p>\n",
    "Este parágrafo\n",
    "tem         vários espaços\n",
    "no código         fonte,\n",
    "mas o        navegador\n",
    "ignora isso.\n",
    "</p>"
   ]
  },
  {
   "cell_type": "markdown",
   "metadata": {},
   "source": [
    "#### Réguas horizontais\n",
    "\n",
    "###### A tag `<hr>`, que é uma tag (ou elemento) vazia, define uma quebra temática em uma página HTML e geralmente é exibida como uma régua horizontal. Esse elemento é usado para separar conteúdo (ou definir uma alteração) em uma página HTML:"
   ]
  },
  {
   "cell_type": "code",
   "execution_count": null,
   "metadata": {
    "vscode": {
     "languageId": "html"
    }
   },
   "outputs": [],
   "source": [
    "<h1>Isto é um cabeçalho 1</h1>\n",
    "<p>Isto é um texto.</p>\n",
    "<hr>\n",
    "<h2>Isto é um cabeçalho 2</h2>\n",
    "<p>Isto é um outro texto.</p>\n",
    "<hr>"
   ]
  },
  {
   "cell_type": "markdown",
   "metadata": {},
   "source": [
    "#### Quebras de linha\n",
    "\n",
    "###### O elemento HTML `<br>`, que é uma tag vazia, define uma quebra de linha. Use `<br>` se quiser uma quebra de linha (uma nova linha) sem começar um novo parágrafo: "
   ]
  },
  {
   "cell_type": "code",
   "execution_count": null,
   "metadata": {
    "vscode": {
     "languageId": "html"
    }
   },
   "outputs": [],
   "source": [
    "<p>Este é<br>um parágrafo<br>com quebras de linha.</p>"
   ]
  },
  {
   "cell_type": "markdown",
   "metadata": {},
   "source": [
    "#### O problema do poema\n",
    "\n",
    "###### Este poema será exibido em uma única linha:"
   ]
  },
  {
   "cell_type": "code",
   "execution_count": null,
   "metadata": {
    "vscode": {
     "languageId": "html"
    }
   },
   "outputs": [],
   "source": [
    "<p>\n",
    "    My Bonnie lies over the ocean.\n",
    "\n",
    "    My Bonnie lies over the sea.\n",
    "\n",
    "    My Bonnie lies over the ocean.\n",
    "\n",
    "    Oh, bring back my Bonnie to me.\n",
    "</p>"
   ]
  },
  {
   "cell_type": "markdown",
   "metadata": {},
   "source": [
    "#### Solução: o elemento `<pre> </pre>`\n",
    "\n",
    "###### O elemento HTML `<pre>` define um texto pré-formatado. O texto dentro de um elemento `<pre>` é exibido com uma fonte de largura fixa (geralmente a Courier) e preserva os espaços e as quebras de linha:"
   ]
  },
  {
   "cell_type": "code",
   "execution_count": null,
   "metadata": {
    "vscode": {
     "languageId": "html"
    }
   },
   "outputs": [],
   "source": [
    "<pre>\n",
    "    My Bonnie lies over the ocean.\n",
    "\n",
    "    My Bonnie lies over the sea.\n",
    "\n",
    "    My Bonnie lies over the ocean.\n",
    "\n",
    "    Oh, bring back my Bonnie to me.\n",
    "</pre>"
   ]
  },
  {
   "cell_type": "markdown",
   "metadata": {},
   "source": [
    "<a href=\"https://www.youtube.com/watch?v=qis4kAOThLw&list=PLP9IO4UYNF0VdAajP_5pYG-jG2JRrG72s&index=7\">Tutorial em vídeo sobre Parágrafos</a>"
   ]
  },
  {
   "cell_type": "markdown",
   "metadata": {},
   "source": [
    "#### AULA 7: Estilos\n",
    "\n",
    "###### O atributo HTML `style` é usado para estilizar um elemento, como cor, fonte, tamanho e mais."
   ]
  },
  {
   "cell_type": "code",
   "execution_count": null,
   "metadata": {
    "vscode": {
     "languageId": "html"
    }
   },
   "outputs": [],
   "source": [
    "<p>Um parágrafo normal</p>\n",
    "<p style=\"color:red;\">Um parágrafo em vermelho</p>\n",
    "<p style=\"color:blue;\">Um parágrafo em azul</p>\n",
    "<p style=\"font-size:50px;\">Um parágrafo com letra em 50px</p>"
   ]
  },
  {
   "cell_type": "markdown",
   "metadata": {},
   "source": [
    "###### Use a seguinte sintaxe para definir o atributo `style` de um elemento HTML:"
   ]
  },
  {
   "cell_type": "code",
   "execution_count": null,
   "metadata": {
    "vscode": {
     "languageId": "html"
    }
   },
   "outputs": [],
   "source": [
    "<tagname style=\"property:value;\">Content</tagname>"
   ]
  },
  {
   "cell_type": "markdown",
   "metadata": {},
   "source": [
    "###### Essa é uma propriedade do CSS e seu valor também é do CSS.\n",
    "\n",
    "###### A propriedade CSS `background-color` define a cor de fundo de um elemento HTML."
   ]
  },
  {
   "cell_type": "code",
   "execution_count": null,
   "metadata": {
    "vscode": {
     "languageId": "html"
    }
   },
   "outputs": [],
   "source": [
    "<body style=\"background-color:powderblue;\">\n",
    "    <h1>Cabeçalho</h1>\n",
    "        <p>Parágrafo</p>\n",
    "</body>"
   ]
  },
  {
   "cell_type": "code",
   "execution_count": null,
   "metadata": {
    "vscode": {
     "languageId": "html"
    }
   },
   "outputs": [],
   "source": [
    "<body>\n",
    "    <h1 style=\"background-color:powderblue;\">Cabeçalho</h1>\n",
    "        <p style=\"background-color:tomato;\">Parágrafo</p>\n",
    "</body>"
   ]
  },
  {
   "cell_type": "markdown",
   "metadata": {},
   "source": [
    "#### Cor do texto\n",
    "\n",
    "###### A propriedade CSS `color` define a cor do texto de um elemento HTML:"
   ]
  },
  {
   "cell_type": "code",
   "execution_count": null,
   "metadata": {
    "vscode": {
     "languageId": "html"
    }
   },
   "outputs": [],
   "source": [
    "<h1 style=\"color:blue;\">Cabeçalho</h1>\n",
    "<p style=\"color:red;\">Parágrafo</p>"
   ]
  },
  {
   "cell_type": "markdown",
   "metadata": {},
   "source": [
    "#### Fontes\n",
    "\n",
    "###### A propriedade CSS `font-family` define a fonte a ser usada para um elemento HTML:"
   ]
  },
  {
   "cell_type": "code",
   "execution_count": null,
   "metadata": {
    "vscode": {
     "languageId": "html"
    }
   },
   "outputs": [],
   "source": [
    "<h1 style=\"font-family:verdana;\">Cabeçalho</h1>\n",
    "<p style=\"font-family:courier;\">Parágrafo</p>"
   ]
  },
  {
   "cell_type": "markdown",
   "metadata": {},
   "source": [
    "#### Tamanho do texto\n",
    "\n",
    "###### A propriedade CSS `font-size` define o tamanho do texto de um elemento HTML:"
   ]
  },
  {
   "cell_type": "code",
   "execution_count": null,
   "metadata": {
    "vscode": {
     "languageId": "html"
    }
   },
   "outputs": [],
   "source": [
    "<h1 style=\"font-size:300%;\">Cabeçalho</h1>\n",
    "<p style=\"font-size:160%;\">Parágrafo</p>"
   ]
  },
  {
   "cell_type": "markdown",
   "metadata": {},
   "source": [
    "#### Alinhamento do texto\n",
    "\n",
    "###### A propriedade CSS `text-align` define o alinhamento horizontal do texto de um elemento HTML:"
   ]
  },
  {
   "cell_type": "code",
   "execution_count": null,
   "metadata": {
    "vscode": {
     "languageId": "html"
    }
   },
   "outputs": [],
   "source": [
    "<h1 style=\"text-align:center;\">Cabeçalho centralizado</h1>\n",
    "<p style=\"text-align:center;\">Parágrafo centralizado</p>"
   ]
  },
  {
   "cell_type": "markdown",
   "metadata": {},
   "source": [
    "<a href=\"https://www.youtube.com/watch?v=twdNPJfbj_8&list=PLP9IO4UYNF0VdAajP_5pYG-jG2JRrG72s&index=7\">Tutorial em vídeo sobre Estilos</a>"
   ]
  },
  {
   "cell_type": "markdown",
   "metadata": {},
   "source": [
    "#### AULA 8: Formatação de texto\n",
    "\n",
    "###### O HTML oferece vários elementos para definir o texto com um significado especial. Esses elementos são chamados de \"elementos de formatação\". Eis alguns:\n",
    "\n",
    "###### - `<b>`: texto em negrito\n",
    "###### - `<strong>`: texto importante\n",
    "###### - `<i>`: texto em itálico\n",
    "###### - `<em>`: texto com ênfase, um leitor de tela pronunciará as palavras dentro do elemento `<em>` com ênfase, dando mais importância para esse texto.\n",
    "###### - `<mark>`: texto marcado ou realçado\n",
    "###### - `<small>`: texto menor\n",
    "###### - `<del>`: texto excluído, strike-through\n",
    "###### - `<ins>`: texto inserido, sublinhado\n",
    "###### - `<sub>`: texto subscrito, aparece como meio caractere, abaixo da linha normal, e geralmente com uma fonte menor. Este texto pode ser usado para fórmulas químicas, como `H<sub>2</sub>O`\n",
    "###### - `<sup>`: texto superescrito, aparece como meio caractere, acima da linha normal, e geralmente com uma fonte menor. Este texto pode ser usado para notas de rodapé, como `WWW<sup>[1]</sup>`\n",
    "\n",
    "<a href=\"https://www.youtube.com/watch?v=7FqQLqNIEY8&list=PLP9IO4UYNF0VdAajP_5pYG-jG2JRrG72s&index=8\">Tutorial em vídeo sobre formatação de texto</a>"
   ]
  },
  {
   "cell_type": "markdown",
   "metadata": {},
   "source": [
    "#### AULA 9: Citações\n",
    "\n",
    "###### O elemento HTML `<blockquote>` define uma seção citada de outra fonte. Os navegadores geralmente exibem esses elementos com indentação.\n",
    "\n",
    "###### Há também o elemento `<q>` para citações curtas. Os navegadores geralmente colocam aspas em volta da citação.\n",
    "\n",
    "###### O elemento HTML `<abbr>` define uma abreviação ou um acrônimo, como \"HTML\", \"CSS\", \"Sr.\", \"Dr.\", \"ASAP\", \"ATM\". Marcar as abreviações pode fornecer informações úteis para navegadores, sistemas de tradução e mecanismos de pesquisa. Use o atributo global `title` para exibir uma descrição da abreviação/do acrônimo ao passar o mouse sobre o elemento.\n",
    "\n",
    "###### O elemento HTML `<address>` define as informações de contato do autor/proprietário de um documento ou artigo. Essas informações podem ser um endereço de email, um URL, um endereço físico, um número de telefone, informações de redes sociais, etc. O texto neese elemento geralmente é exibido em itálico, e os navegadores sempre adicionarão uma quebra de linha antes e depois da tag `<address>`.\n",
    "\n",
    "###### O elemento HTML `<cite>` define o título de uma obra criativa (p.ex. um livro, um poema, uma música, um filme, uma pintura, uma escultura, etc.). O nome de uma pessoa não é um título de obra. O texto nesse elemento geralmente é exibido em itálico.\n",
    "\n",
    "###### BDO significa Bi-Directional Override (substituição bidirecional). O elemento HTML `<bdo>` é usado para alterar a direção do texto atual."
   ]
  },
  {
   "cell_type": "markdown",
   "metadata": {},
   "source": [
    "#### AULA 10: Comentários (`Ctrl+;`)\n",
    "\n",
    "###### Comentários HTML não aparecem no navegador, mas podem ajudar com o código-fonte.\n",
    "\n",
    "###### Para inserir comentários no código, use a seguinte sintaxe: `<!-- Comentário aqui! -->`. O ponto de exclamação no início é obrigatório. É possível ocultar várias linhas ao mesmo tempo.\n",
    "\n",
    "###### Use comentários para adicionar avisos ou lembretes, ocultar texto permanente ou temporariamente ou fazer depuração do código, já que se pode ocultar linha por linha até achar o problema.\n",
    "\n",
    "<a href=\"https://www.youtube.com/watch?v=229HYq40vaA&list=PLP9IO4UYNF0VdAajP_5pYG-jG2JRrG72s&index=10\">Tutorial em vídeo sobre comentários</a>"
   ]
  },
  {
   "cell_type": "markdown",
   "metadata": {},
   "source": [
    "#### AULA 11: Cores\n",
    "\n",
    "###### Cores HTML são especificadas por nomes predefinidos ou por valores RGB, HEX, HSL, RGBA, ou HSLA. É possível definir as cores do texto (`color`), do fundo (`background-color`) ou da borda (`border-color`).\n",
    "\n",
    "###### Com nome de cor: `tomato`, `orange`, `dodgerblue`, `mediumseagreen`, `gray`...\n",
    "\n",
    "<a href=\"https://www.w3schools.com/colors/colors_names.asp\">Nomes de cores suportados</a>\n",
    "\n",
    "###### Para valores de cores é possível usar rgb, hex ou hsl. Ao usar rgba e hsla, adiciona-se um canal Alpha (ou transparência) com valores que vão de 0 a 1, que correspondem a opacidade de 0 a 100%.\n",
    "\n",
    "<a href=\"https://www.youtube.com/watch?v=zCrolmdqmF8&list=PLP9IO4UYNF0VdAajP_5pYG-jG2JRrG72s&index=11\">Tutorial em vídeo sobre cores</a>"
   ]
  },
  {
   "cell_type": "markdown",
   "metadata": {},
   "source": [
    "#### AULA 12: CSS\n",
    "\n",
    "###### CSS significa Cascading Style Sheets (folhas de estilo em cascata). Ele economiza muito trabalho, porque pode controlar o layout de várias páginas da Web ao mesmo tempo.\n",
    "\n",
    "###### Com CSS é possível controlar a cor, a fonte, o tamanho do texto, o espaçamento entre os elementos, como os elementos são posicionados na tela, quais imagens ou cores de fundo usar, diferentes exibições para cada dispositivo e tamanho de tela, e muito mais!\n",
    "\n",
    "###### \"Em cascata\" significa que um estilo aplicado a um elemento pai também será aplicado a todos os elementos filhos dentro do pai. Então, ao definir a cor do texto do corpo como \"blue\", todos os cabeçalhos, parágrafos e outros elementos de texto dentro do corpo também receberão a mesma cor, a mesnos que seja especificado algo diferente.\n",
    "\n",
    "###### Há 3 maneiras de usar o CSS em documentos HTML:\n",
    "###### - Inline, usando o atributo `style` em elementos HTML\n",
    "###### - Internal, usando o elemento `<style>` na seção `<head>`\n",
    "###### - External, usando um elemento `<link>` para vincular um arquivo CSS externo\n",
    "\n",
    "###### O CSS inline é usado para aplicar um estilo único a um único elemento HTML. Ele usa o atributo `style` de um elemento HTML.\n",
    "\n",
    "###### O CSS internal é usado para definir um estilo para uma única página HTML. Ele é definido na seção `<head>` de uma página HTML, com um elemento `<style>`.\n",
    "\n",
    "###### O CSS external é um arquivo de folha de estilo, com extensão `.css`, usado para definir o estilo de várias páginas HTML. Para tanto é necessário usar o elemento `link` na seção `<head>` de cada página HTML. Esse arquivo CSS não deve conter HTML.\n",
    "\n",
    "##### Cores, fontes e tamanhos no CSS\n",
    "\n",
    "###### As seguintes propriedades CSS definem, em ordem, a cor do texto, a fonte e o tamanho da fonte: `color`, `font-family` e `font-size`.\n",
    "\n",
    "###### A propriedade `border` define uma borda ao redor de um elemento HTML. `border: 2px solid powderblue;`\n",
    "\n",
    "###### A propriedade `padding` define um espaço entre o texto e a borda.\n",
    "\n",
    "###### A propriedade `margin` define um espaço fora da borda.\n",
    "\n",
    "###### O elemento `<link>` aceita o caminho do arquivo CSS localmente (ou em um servidor) ou um URL.\n",
    "\n",
    "###### <a href=\"https://www.w3schools.com/w3css/default.asp\">W3.CSS</a> é um framework de CSS moderno que oferece suporte para desktops, tablets e dispositivos móveis por padrão. Ele é menor e mais rápido que outros frameworks de CSS e foi projetado para trabalhar independentemente do jQuery ou de outras bibliotecas JavaScript.\n",
    "\n",
    "###### Outro framework muito utilizado é o <a href=\"https://www.w3schools.com/bootstrap/bootstrap_ver.asp\">Bootstrap</a>.\n",
    "\n",
    "<a href=\"https://www.youtube.com/watch?v=cZHp-Oozg6I&list=PLP9IO4UYNF0VdAajP_5pYG-jG2JRrG72s&index=13\">Tutorial em vídeo sobre CSS no HTML</a>"
   ]
  },
  {
   "cell_type": "markdown",
   "metadata": {},
   "source": [
    "#### AULA 13: Links\n",
    "\n",
    "###### Links HTML, também chamados de hiperlinks, possibilitam que o usuário navegue entre as páginas do site. Ao clicar em um link, o usuário é enviado para outro documento HTML, ou outra página. Ao passar o mouse sobre um link, a seta se transforma em uma mãozinha. Um link não precisa ser um texto, pode ser uma imagem ou qualquer outro elemento HTML.\n",
    "\n",
    "###### Sintaxe: `<a href=\"url\">texto do link</a>`. `href` é o atributo mais importante da tag `<a>`, já que é ele que contém o destino do link. O `texto do link` é o que fica visível para o usuário final.\n",
    "\n",
    "###### Cores padrão dos links (mas isso pode ser alterado no CSS ou com o atributo `style`):\n",
    "###### - Links não visitados aparecem sublinhados e em azul\n",
    "###### - Links visitados aparecem sublinhados e em roxo\n",
    "###### - Links ativos aparecem sublinhados e em vermelho\n",
    "\n",
    "##### Atributo `target` \n",
    "\n",
    "###### Por padrão, ao ser clicado, o link abre na janela ou aba atual. Este atributo altera esse comportamento com os seguintes valores: `_self`, mantém o comportamento padrão; `_blank`, abre em uma nova janela ou aba; `_parent`, abre no frame pai; `_top`, abre no corpo cheio da janela. Também é possível usar um nome especificado de um `iframe` para abrir o link em um quadro na página. Esse quadro deve ser definido logo abaixo do elemento `<a>` como `<iframe src=\"link para o nome do arquivo a abrir\" width=porcentagem name=\"nome definido no elemento <a>\">`.\n",
    "\n",
    "###### É possível usar URLs absolutos ou relativos no atributo `href`. URLs absolutos são o endereço completo, URLs relativos não têm o `http(s)://www` e pertencem ao mesmo site da página atual.\n",
    "\n",
    "###### Para usar imagens como links, coloque a tag `<img>` dentro da tag `<a>`. \n",
    "\n",
    "###### Também é possível usar a sintaxe `<a href=\"mailto:e-mail\">texto do link</a>` para abrir o programa de email do usuário, para que ele possa enviar um email para alguém.\n",
    "\n",
    "###### Para usar um botão HTML como link, é preciso usar código JavaScript, que possibilita especificar o que acontece quando ocorre determinado evento, como ao clicar em um botão.\n",
    "\n",
    "###### O atributo `title` define informações adicionais sobre um elemento. Geralmente o conteúdo desse atributo é exibido como uma dica ao passar o mouse sobre o elemento.\n",
    "\n",
    "###### Usando o atributo `id` é possível criar âncoras para texto na mesma página. Ou use a sintaxe `href=\"nome_da_página.html#id\"` para adicionar um link para um `id` em outra página.\n",
    "\n",
    "<a href=\"https://www.youtube.com/watch?v=HA6bByKdAQM&list=PLP9IO4UYNF0VdAajP_5pYG-jG2JRrG72s&index=14\">Tutorial em vídeo sobre links</a>"
   ]
  },
  {
   "cell_type": "markdown",
   "metadata": {},
   "source": [
    "#### AULA 14 E 15: Imagens e favicon\n",
    "\n",
    "###### As imagens não são exatamente inseridas na página Web, elas são vinculadas às páginas. A tag `<img>` criar um espaço reservado para a imagem vinculada.\n",
    "\n",
    "###### Os atributos `src=` e `alt=` são obrigatórios no elemento `<img>`. \"src\" recebe o link, \"alt\" recebe o texto que aparecerá na tela caso a imagem não seja carregada por qualquer motivo e para ser usado por leitores de tela.\n",
    "\n",
    "###### Os atributos `width` e `height` definem, respectivamente, a largura e a altura da imagem a ser exibida. Ao definir `width=100%`, a imagem se torna responsiva de acordo com o dispositivo, e se adéqua ao tamanho da tela em que a imagem é exibida.\n",
    "\n",
    "###### Os atributos `width`, `height` e `style=width:XXpx;height:XXpx\"` são todos válidos, porém recomenda-se usar `style` para que folhas de estilo CSS e a tag `<style>` de `<head>` não alterem o tamanho das imagens.\n",
    "\n",
    "###### Também é possível vincular um URL absoluto no atributo `src`, como um link para um site externo (ex. `https://mechguru.com/wp-content/uploads/2014/11/Thick-Cylinder-Typical-Radial-and-Circumferential-Forces.png`). Sempre verificar o status de copyright de uma imagem externa antes de usá-la.\n",
    "\n",
    "###### Também é possível usar GIFs como imagens, localmente ou com URL absoluto.\n",
    "\n",
    "###### O atributo CSS `float` coloca a imagem ao lado do texto, à esquerda (`float: left`) ou à direita (`float: right`). <b>PESQUISAR:</b> Opções de float: `inline-end`, `inline-start`, `none`, `inherit`, `initial`, `unset`.\n",
    "\n",
    "###### A tag HTML `<map>` define um mapa de imagem, que é uma imagem com áreas clicáveis. Essas áreas são definidas com uma ou mais tags `<area>`.\n",
    "###### Ex.: `<img src=\"workplace.jpg\" alt=\"Workplace\" usemap=\"#workmap\">`\n",
    "######      `<map name=\"workmap\">`\n",
    "######      `<area shape=\"rect\" coords=\"34,44,270,350\" alt=\"Computer\" href=\"computer.htm\">`\n",
    "######      `<area shape=\"rect\" coords=\"290,172,333,250\" alt=\"Phone\" href=\"phone.htm\">`\n",
    "######      `<area shape=\"circle\" coords=\"337,300,44\" alt=\"Coffee\" href=\"coffee.htm\">`\n",
    "######      `</map>`\n",
    "\n",
    "##### Como funciona o `map`?\n",
    "###### Um mapa de imagem possibilita realizar diferentes ações dependendo da área clicada na imagem. Para criá-lo são necessários uma imagem e o código HTML que descreve as áreas clicáveis.\n",
    "###### Insira a imagem coma tag `<img>`, usando o atributo `usemap`. O valor de `usemap` recebe uma hash tag (`#`) seguida do nome do mapa de imagem, e é usado como um link de âncora, para criar um relacionamento entre a imagem e o mapa. \n",
    "###### Em seguida, adiciona-se o elemento `<map>`, que é usado para criar um mapa da imagem e é vinculado à imagem com o atributo de nome `usemap`.\n",
    "###### Depois, adiciona-se as áreas clicáveis com o elemento `<area>`. `area:c` define um círculo, `area:d` define o padrão, toda a região da imagem, `area:p` define uma região poligonal e `area:r` define um retângulo; essas opções também podem ser adicionadas com o atributo `shape=\"rect\"` (ou `circle`, `poly`, `default`).\n",
    "###### As coordenadas (atributo `coords=\"\"`) de `rect` vem em pares, p.ex. `34, 44, 270, 350` significa que o retângulo começa a 34 pixels da margem esquerda da imagem e a 44 pixels da magem superior, termina em 270 pixels da margem esquerda e a 350 pixels da margem superior. O último atributo é `href=` que vincula a um URL.\n",
    "###### `circle` precisa das coordenadas do centro do círculo e do raio, p.ex. `337, 300, 44`.\n",
    "###### `poly` precisa de vários pontos de coordenadas, formando um polígono. Para cada ponto da área clicável da imagem, é necessário descobrir o X e o Y. Ex.: Imagem \"croissant-coords\".\n",
    "\n",
    "###### Uma área clicável também pode acionar uma função JavaScript. Adicona-se um evento `click` ao elemento `<area>` para executar a função.\n",
    "\n",
    "##### Imagens de fundo\n",
    "\n",
    "###### Qualquer elemento HTML pode ter uma imagem de fundo. Para fazer isso, use o atributo `style` com a propriedade `background-image` ou no elemento `<style>` da seção `<head>` da página. Se toda a página deve ter uma imagem de fundo, especifique-a no elemento `<body>`. \n",
    "###### Para evitar que a imagem se repita por ser menor que a altura ou a largura da página, usar `background-repeat: no-repeat` no elemento `<style>` da seção `<head>` ou no CSS. NÃO ESQUEÇA O PONTO-E-VÍRGULA NO FINAL!\n",
    "###### Para que a imagem de fundo cubra todo o elemento (página, div, caixa, etc.), definir `background-size: cover` no elemento `<style>` da seção `<head>` ou no CSS. NÃO ESQUEÇA O PONTO-E-VÍRGULA NO FINAL!\n",
    "###### E para garantir que o elemento inteiro sempre esteja coberto, usar `background-attachment: fixed` no elemento `<style>` da seção `<head>` ou no CSS. NÃO ESQUEÇA O PONTO-E-VÍRGULA NO FINAL!\n",
    "###### `background-size: 100% 100%`estica a imagem e se adéqua ao redimensionamento da janela.\n",
    "\n",
    "##### Elemento `<picture>`\n",
    "\n",
    "###### O elemento HTML `<picture>` fornece mais flexibilidade ao especificar recursos de imagem. Ele contém um ou mais elementos `<source>`, cada um específico a diferentes imagens no atributo `srcset`. Assim, o navegador pode escolher a imagem que melhor se ajusta à visualização atual e/ou ao dispositivo. Cada elemento `<source>` recebe um atributo `media` que define quando a imagem é mais adequada.\n",
    "###### Com este elemento, o navegador procura pelo primeiro elemento `source` em que há correspondência do tamanho da mídia em relação à largura do dispositivo atual, e busca a image, especificadano atributo `srcset`. O elemento `img` é OBRIGATÓRIO como a última tag do bloco de declaração da imagem, e é usado para fornecer retrocompatibilidade para navegadores que não oferecem suporte ao elemento `picture`, ou se nenhuma das tags `source` corresponder.\n",
    "\n",
    "##### Quando usar o elemento `picture`?\n",
    "\n",
    "###### 1. Se o dispositivo apresenta uma tela pequena, não é necessário carregar um arquivo de imagem grande. O navegador usará o primeiro elemento `<source>` que corresponder aos valores do atributo, e ignorará os elementos seguintes.\n",
    "###### 2. Alguns navegadores ou dispositivos podem não oferecer suporte a todos os formatos de imagem. Usando o elemento `<picture>` é possível adicionar imagens para todos os formatos e o navegador usará o primeiro formato que reconhecer, ignorando os restantes.\n",
    "\n",
    "##### Favicon\n",
    "\n",
    "###### Um favicon é uma imagem pequena, portanto deve ser simples e ter alto contraste.\n",
    "###### Para usá-lo, adicione um elemento `<link>` à página `index.html` após o elemento `<title>` ou coloque o favicon na raiz do projeto, junto com o arquivo `index.html`.\n",
    "\n",
    "<a href=\"https://www.youtube.com/watch?v=FmoYRiepmOE&list=PLP9IO4UYNF0VdAajP_5pYG-jG2JRrG72s&index=13\">Tutorial em vídeo sobre Imagens</a>"
   ]
  },
  {
   "cell_type": "markdown",
   "metadata": {},
   "source": [
    "#### AULA 16: Título da página\n",
    "\n",
    "###### Use o elemento `<title>` na seção `<head>` para dar um título à página. Isso será exibido na aba do navegador.\n",
    "###### Ele deve descrever o conteúdo e o significado da página e é usado para SEO (search engine optimization).\n",
    "\n",
    "###### Esse elemento:\n",
    "###### - define um título na barra do navegador\n",
    "###### - fornece um título para a página adicionada aos favoritos\n",
    "###### - exibe um título para a página em resultados de mecanismos de pesquisa"
   ]
  },
  {
   "cell_type": "markdown",
   "metadata": {},
   "source": [
    "#### AULA 17: Tabelas\n",
    "\n",
    "###### As tags para definir tabelas são as seguintes:\n",
    "###### - `<table> </table>`: abre e fecha o elemento completo de tabela.\n",
    "###### - `<th> </th>` (table header): abre e fecha a linha de cabeçalho da tabela, se houver cabeçalho. Por padrão, o texto neste elemento aparece em negrito e centralizado, mas é possível alterar isso com CSS. \n",
    "###### - `<tr> </tr>` (table row): abre e fecha uma linha da tabela. É possível adicionar quantas linhas quiser a uma tabela, mas a quantidade de células deve ser a mesma em cada linha.\n",
    "###### - `<td> </td>` (table data): abre e fecha uma célula da tabela.\n",
    "\n",
    "##### Para usar a primeira coluna como cabeçalho, defina a primeira célula de cada linha com um elemento `<th>`.\n",
    "\n",
    "##### Cabeçalho para várias colunas: usar `colspan=\"N\"` no elemento `<th>`, em que \"N\" é um número de colunas.\n",
    "\n",
    "###### Uma célula de tabela pode conter vários tipos de elementos HTML: texto, imagens, listas, links, outras tabelas, etc.\n",
    "\n",
    "###### Outros elementos de tabela: `<caption>`, `<colgroup>`, `<col>`, `<thead>` (agrupa o conteúdo da seção `head` em uma tabela), `<tbody>` (idem, mas para o corpo), `<tfoot>` (idem, mas para o rodapé).\n",
    "\n",
    "##### Bordas\n",
    "\n",
    "###### Para adicionar bordas, usar o elemento `<style>` na seção `<head>` ou usar CSS. Sintaxe correta: `border {border: solid 2px hotpink;}`. Usar `border-collapse: collapse;` para que a borda não fique duplicada e `text-align: center;` para centralizar o texto nas células. Também é possível definir a cor de fundo das células.\n",
    "\n",
    "###### `border-radius` arredonda as bordas da tabela. `border-style`, com suas opções `dotted`, `dashed`, `solid`, `double`, `groove`, `ridge`, `inset`, `outset`, `none`, `hidden`. `border-color` para definir a cor da borda. \n",
    "\n",
    "##### Tamanhos de tabela\n",
    "\n",
    "###### Cada coluna, linha ou a tabela toda pode ter tamanhos diferentes. Para alterar os tamanhos, usar o atributo `style` com as propriedades `width` e `height` nas tags para linha, coluna ou cabeçalho ou usar CSS. Os valores podem ser em pixels ou porcentagens, 100% pega toda a largura ou altura da janela, o que é bom ao redimensionar a janela ou em dispositivos com telas pequenas.\n",
    "\n",
    "##### Espaçamento de tabela e células (padding & spacing)\n",
    "\n",
    "###### Cell padding é o espaço entre as bordas da célula e seu conteúdo. O valor padrão é 0. Para alterar isso, use a propriedade CSS `padding` e suas variações `padding-top`, `padding-bottom`, `padding-left` e `padding-right`.\n",
    "\n",
    "###### Cell spacing é o espaço entre cada célula. O valor padrão é 2 pixels. Para alterar isso, use a propriedade CSS `border-spacing` no elemento `table`.\n",
    "\n",
    "##### Colspan e rowspan\n",
    "\n",
    "###### Algumas células podem se estender entre colunas ou linhas (span). Para a célula se estender por várias colunas, usar `colspan=\"N\"`, em que N é um número de colunas. Para a célula se estender por várias linhas, usar `rowspan=\"N\"`, em que N é um número de linhas. \n",
    "\n",
    "##### Estilização de tabelas\n",
    "\n",
    "###### Para estilizar every 2 rows com cores diferentes, usar o seletor `:nth-child(even)` para o elemento `<tr>`. `even`=linhas pares `odd`=linhas ímpares. Para estilizar every 2 columns com cores diferentes, usar o seletor `:nth-child(even)` para o elemento `<td>`. `even`=linhas pares `odd`=linhas ímpares. Ao colocar o seletor `:nth-child()` em ambos os elementos `<th>` e `<td>`, a estilização ocorre para cabeçalhos e células da tabela.\n",
    "\n",
    "###### É possível combinar as duas estilizações acima para ter linhas e colunas alteradas com cores. Ao usar uma cor transparente, se obtém um efeito sobreposto. Ex.:\n",
    "`tr:nth-child(even) {`\n",
    "  `background-color: rgba(150, 212, 212, 0.4);`\n",
    "`}`\n",
    "\n",
    "`th:nth-child(even),td:nth-child(even) {`\n",
    "  `background-color: rgba(150, 212, 212, 0.4);`\n",
    "`}`\n",
    "\n",
    "###### Também é possível usar `border-bottom=Npx solid #color` ou `border-top` no elemento `<tr>` para colocar bordar apenas embaixo ou em cima dsas células, dando a impressão de réguas divisoras.\n",
    "\n",
    "###### O seletor `:hover` em `<tr>` realça a cor de uma linha ao passar o mouse, idem para colunas.\n",
    "\n",
    "###### Use o elemento `<colgroup>` para estilizar colunas específicas de uma tabela. Esse elemento deve ser usado como contêiner para as especificações de coluna. Cada `grupo` é definido com um elemento `<col>`. O atributo `span=\"N\"` define quantas colunas recebem o estilo. O atributo `style=background-color: #cor` define o estilo aplicado às colunas. A tag `<colgroup>` deve estar aninhada em `<table>` e deve vir antes de qualquer outro elemento da tabela, como `<thead>`, `<tr>`, `<td>` etc., mas após o elemento `<caption>`, caso esteja presente.\n",
    "###### Apenas as seguintes propriedades de CSS podem ser usadas com `<colgroup>`, o resto das propriedades não funcionará.\n",
    "###### - `width`\n",
    "###### - `visibility`\n",
    "###### - `background`\n",
    "###### - `border`\n",
    "\n",
    "###### Para estilizar mais colunas, com diferentes estilos, use mais elementos `<col>` dentro de `<colgroup>`.\n",
    "\n",
    "###### Para estilizar colunas no meio da tabela, usar um elemento `<col>` vazio (sem definição de estilo) nas colunas anteriores.\n",
    "\n",
    "###### `visibility:collapse` oculta colunas.\n",
    "\n",
    "<a href=\"https://www.w3schools.com/html/html_table_colgroup.asp\">Exemplos de estilização de colunas</a>\n",
    "\n",
    "<a href=\"https://www.youtube.com/watch?v=e62D-aayveY&list=PLP9IO4UYNF0VdAajP_5pYG-jG2JRrG72s&index=14\">Tutorial em vídeo sobre tabelas</a>"
   ]
  },
  {
   "cell_type": "markdown",
   "metadata": {},
   "source": [
    "#### AULA 18: Listas\n",
    "\n",
    "###### Listas podem ser não ordenadas (bullet points) ou ordenadas (numeradas).\n",
    "\n",
    "###### Uma lista não ordenada começa com a tag `<ul>` e cada item da lista começa com a tag `<li>`.\n",
    "\n",
    "###### Uma lista ordenada começa com a tag `<ol>` e cada item da lista começa com a tag `<li>`.\n",
    "\n",
    "###### Também é possível criar listas de descrição, que é uma lista de termos com uma descrição de cada termo. A tag `<dl>` define esse tipo de lista, a tag `<dt>` define o termo (o nome) e a tag `<dd>` descreve cada termo.\n",
    "\n",
    "###### Para listas não ordenadas (bulleted), é possível definir o estilo do marcador da lista: `disc`, `circle`, `square` ou `none`.\n",
    "\n",
    "###### Para listas ordenadas (numeradas), é possível definir o estilo do marcador com o atributo `type=\"N\"`, em que N é um dos seguintes: `1` (padrão, números), `A` (letras maiúsculas), `a` (letras minúsculas), `I` (números romanos maiúsculos) ou `i` (números romandos minúsculos).\n",
    "\n",
    "###### Por padrão, as listas ordenadas começam a contar do \"1\". Para alterar isso, use o atributo `start=\"N\"`, em que N é o número inicial.\n",
    "\n",
    "###### É possível aninhar uma lista em outra. \n",
    "\n",
    "###### Um item de lista (`<li>`) pode conter uma nova lista ou outros elementos HTML, como imagens, links, etc.\n",
    "\n",
    "###### É possível estilizar listas HTML não ordenadas de várias formas usando CSS. P.ex. estilizar horizontalmente para criar um menu de navegação.\n",
    "\n",
    "<a href=\"https://www.youtube.com/watch?v=-QuK8taGLCs&list=PLP9IO4UYNF0VdAajP_5pYG-jG2JRrG72s&index=15\">Tutorial em vídeo sobre listas</a>"
   ]
  },
  {
   "cell_type": "markdown",
   "metadata": {},
   "source": [
    "#### AULA 19: Elementos \"block\" e \"inline\"\n",
    "\n",
    "###### Todo elemento HTML tem um valor de exibição padrão, dependendo do tipo de elemento. Os dois valores de exibição mais comuns são block e inline.\n",
    "\n",
    "###### Um elemento de nível \"block\" sempre começa em uma nova linha, e os navegadores automaticamente adicionam espaço (uma margem) antes e depois dele. Ele sempore ocupa toda a largura disponível, esticando-se para a esquerda e a direita o máximo possível. Os dois elementos \"block\" mais conhecidos são: `<p>` e `<div>`, que definem, respectivamente, um parágrafo e uma divisão, ou seção, em um documento HTML.\n",
    "\n",
    "###### Outros elementos \"block\": `<address>, <article>, <aside>, <blockquote>, <canvas>, <dd>, <dl>, <dt>, <fieldset>, <figcaption>, <figure>, <footer>, <form>, <h1>-<h6>, <header>, <hr>, <li>, <main>, <nav>, <noscript>, <ol>, <pre>, <section>, <table>, <tfoot>, <ul> e <video>`.\n",
    "\n",
    "###### Um elemento \"inline\" não inicia uma nova linha e ocupa apenas a largura necessária.\n",
    "\n",
    "###### Elementos \"inline\": `<span>, <a>, <abbr>, <acronym>, <b>, <bdo>, <big>, <br>, <button>, <cite>, <code>, <dfn>, <em>, <i>, <img>, <input>, <kbd>, <label>, <map>, <object>, <output>, <q>, <samp>, <script>, <select>, <small>, <span>, <strong>, <sub>, <sup>, <textarea>, <time>, <tt> e <var>`.\n",
    "\n",
    "###### Um elemento inline NÃO pode conter um elemento block, mas o inverso pode acontecer.\n",
    "\n",
    "##### Elemento `<div>`\n",
    "\n",
    "###### O elemento `<div>` geralmente é usado como contêiner para outros elementos HTML e não tem atributos obrigatórios, mas é comum usar os atributos `style`, `class` e `id`. Junto ao CSS, esse elemento pode ser usado para estilizar blocos de conteúdo.\n",
    "\n",
    "##### Elemento `<span>`\n",
    "\n",
    "###### O elemento `<span>` é um contêiner inline usado para marcar parte de um texto, ou parte de um documento. Esse elemento não tem atributos obrigatórios, mas é comum usar os atributos `style`, `class` e `id`. Junto ao CSS, esse elemento pode ser usado para estilizar partes do texto.\n",
    "\n",
    "<a href=\"https://www.youtube.com/watch?v=M4n-WSkehmI&list=PLP9IO4UYNF0VdAajP_5pYG-jG2JRrG72s&index=16\">Tutorial em vídeo sobre elementos em bloco e em linha</a>"
   ]
  },
  {
   "cell_type": "markdown",
   "metadata": {},
   "source": [
    "#### AULA 20: Elemento `<div>`\n",
    "\n",
    "###### O elemento `<div>` geralmente é usado como contêiner para outros elementos HTML. Por padrão, esse é um elemento de bloco, quer dizer, ocupa toda a largura disponível da página, e apresenta quebras de linha antes e depois dele. <b>Ele é usado para agrupar seções de uma página da Web.</b>\n",
    "\n",
    "##### Usar um elemento `<div>` como alinhamento centralizado\n",
    "\n",
    "###### Se um elemento `<div>` não ocupa 100% da largura, é possível centralizá-lo definindo a propriedade CSS `margin` como `auto`.\n",
    "\n",
    "###### Uma página pode conter vários elementos `<div>`. \n",
    "\n",
    "##### Alinhar elementos `<div>` lado a lado\n",
    "\n",
    "###### <b>Float</b>: a propriedade CSS `float` tem sido usada para alinhar elementos `<div>` há vários anos, apesar de originalmente não ser destinada a isso. Essa propriedade é usada para posicionar e formatar o conteúdo, e possibilita que os elementos \"flutuem\" um ao lado do outro, em vez de um em cima do outro.\n",
    "\n",
    "###### <b>Inline-block</b>: ao alterar a propriedade `display` do elemento `<div>` para `inline-block`, ele não mais adicionará uma quebra de linha antes e depois do elemento, e será exibido lado a lado, em vez de um em cima do outro.\n",
    "\n",
    "###### <b>Flex</b>: o módulo de layout \"flexbox\" do CSS possibilita criar uma estrutura de layout responsiva e flexível sem usar os elementos de flutuação ou posicionamento acima. Para que esse método funcione, coloque os elementos `<div>` que deseja alinhar dentro de outro elemento `<div>` e dê ao primeiro elemento div o status de contêiner flexível.\n",
    "\n",
    "###### <b>Grid</b>: o módulo de layout \"grid\" do CSS oferece um sistema baseado em grades, com linhas e colunas, simplificando o design de páginas da Web sem ter que usar flutuação ou posicionamento. Parece quase idêntico ao \"flex\", mas tem a capacidade de definir mais de uma linha e posicioná-las individualmente. Esse método requer dois elementos `<div>` aninhados, com o primeiro com status de contêiner \"grid\", é é precido definir a largura de cada coluna."
   ]
  },
  {
   "cell_type": "markdown",
   "metadata": {},
   "source": [
    "#### AULA 21: Atributo `class`\n",
    "\n",
    "###### O atributo HTML `class` é usado para definir uma classe para um elemento HTML. Vários elementos HTML podem compartilhar da mesma classe.\n",
    "\n",
    "###### Esse atributo geralmente é usado para definir um nome de classe em uma folha de estilo CSS. Também pode ser usado pelo JavaScript para acessar e manipular elementos com o nome de classe especificado.\n",
    "\n",
    "###### O atributo `class` pode ser usado em QUALQUER elemento HTML e diferencia maiúsculas de minúsculas! E diferentes elementos podem ter a mesma classe, como `<p>`, `<h2>` e `<cite>`, por exemplo.\n",
    "\n",
    "###### Para definir várias classes, separe os nomes de classes com um espaço, p.ex. `<div class=\"cidade principal\">`. O elemento será estilizado de acordo com todas as classes especificadas.\n",
    "\n",
    "##### Uso com JavaScript\n",
    "\n",
    "###### O nome de classe também pode ser usado pelo JavaScript para executar determinadas tarefas para determinados elementos. O JS pode acessar os elementos com um nome de classe específico  pelo método `getElementsByClassName()`.\n",
    "\n",
    "<a href=\"https://www.youtube.com/watch?v=tWIkDOJo0Ts&list=PLP9IO4UYNF0VdAajP_5pYG-jG2JRrG72s&index=17\">Tutorial em vídeo sobre o atributo \"class\"</a>"
   ]
  },
  {
   "cell_type": "markdown",
   "metadata": {},
   "source": [
    "#### AULA 22: Atributo `id`\n",
    "\n",
    "###### O atributo HTML `id` é usado para definir uma identificação exclusiva para um elemento HTML. Esse atributo deve ser exclusivo dentro de um documento HTML, isto é, os elementos não podem compartilhar um mesmo `id`.\n",
    "\n",
    "###### Ele é usado para apontar para uma determinada declaração de estilo em uma folha de estilo e pelo JavaScript para acessat e manipular o elemento com a identificação especificada.\n",
    "\n",
    "###### A sintaxe deste atributo é: uma hashtag (`#`) seguida do nome da `id`. Em seguida, use chaves `{}` para definir as propriedades de CSS.\n",
    "\n",
    "###### O nome da id diferencia maiúsculas de minúsculas, deve conter ao menos um caractere, não pode começar com um número e não deve conter espaços em branco (espaços, tabulações, etc.).\n",
    "\n",
    "##### Diferença entre `class` e `id`\n",
    "\n",
    "###### Um nome de classe pode ser usado por vários elementos HTML, uma identificação deve ser usada por apenas um elemento HTML na página.\n",
    "\n",
    "##### Âncoras com o atributo `id` (see also AULA 13: Links)\n",
    "\n",
    "###### Use âncoras HTML para possibilitar que os leitores \"pulem\" para determinadas partes de uma página da Web. Isso pode ser útil se a página é muito longa.\n",
    "\n",
    "###### Para isso, primeiro crie a âncora com o atributo `id` no elemento desejado, depois adicione um link para ela com `<a href=\"#id\">Pular para a id definida</a>`. Ao clicar no link, a página rola para o local da âncora.\n",
    "\n",
    "##### Atributo `id` com JS\n",
    "\n",
    "###### Você também pode usar o atributo `id` com o JavaScript para executar algumas tarefas para um elemento específico. O JavaScript pode acessar o elemento com determinada `id` usando o método `getElementById()`.\n",
    "\n",
    "<a href=\"https://www.youtube.com/watch?v=rZ0k516qZmc&list=PLP9IO4UYNF0VdAajP_5pYG-jG2JRrG72s&index=18\">Tutorial em vídeo sobre o atributo \"id\"</a>"
   ]
  },
  {
   "cell_type": "markdown",
   "metadata": {},
   "source": [
    "#### AULA 23: iFrames\n",
    "\n",
    "###### Use iframes para exibir uma página da Web dentro da página aberta.\n",
    "\n",
    "###### <b>Sintaxe</b>: a tag HTML `<iframe>` define um quadro alinhado à página, que é usado para incorporar outro documento no documento HTML atual.\n",
    "\n",
    "###### Recomenda-se sempre incluir o atributo `title` no iframe, para que leitores de tela saibam qual é o conteúdo do quadro.\n",
    "\n",
    "###### Use os atributos `height` e `width` (em pixels, por padrão) para especificar o tamanho do quadro. Ou use `style=\"height: Npx;width: Npx;\"`. Também é possível usar porcentagem para a largura e a altura.\n",
    "\n",
    "###### Por padrão, um iframe apresenta uma borda. Para removê-la, use o atributo `style` com a propriedade CSS `border:none`. Também é possível alterar outras propriedades CSS, como `border:2px solid red`.\n",
    "\n",
    "###### Um iframe pode ser o `target` de um link, usando o atributo `name` do iframe:\n",
    "###### `<iframe src=\"demo_iframe.htm\" name=\"iframe_a\" title=\"Iframe Example\"></iframe>` \n",
    "###### `<p><a href=\"https://www.w3schools.com\" target=\"iframe_a\">W3Schools.com</a></p>`\n",
    "\n",
    "<a href=\"https://www.youtube.com/watch?v=qP23O70ve7k&list=PLP9IO4UYNF0VdAajP_5pYG-jG2JRrG72s&index=19\">Tutorial em vídeo sobre iFrames</a>"
   ]
  },
  {
   "cell_type": "markdown",
   "metadata": {},
   "source": [
    "#### AULA 24: JavaScript\n",
    "\n",
    "###### O JavaScript deixa a página mais dinâmica e interativa.\n",
    "\n",
    "##### A tag `<script>`\n",
    "\n",
    "###### Use a tag HTML `<script>` para definir um script no lado do cliente, isto é no JavaScript. Esse elemento conterá declarações de script ou apontará para um arquivo de scripts externo usando o atributo `src`.\n",
    "\n",
    "###### Usos comuns do JavaScript são manipulação de imagens, validação de formulários (p. ex. login) e alterações dinâmicas no conteúdo.\n",
    "\n",
    "###### Para selecionar um elemento HTML, o JavaScript geralmente usa o método `document.getElementById()`.\n",
    "\n",
    "###### A tag HTML `<noscript>` define um conteúdo alternativo a ser exibido para usuários que desativarem scripts no navegador ou que usam um navegador que não oferece suporte para scripts.\n",
    "\n",
    "<a href=\"https://www.youtube.com/watch?v=uSgcWDkwc3U&list=PLP9IO4UYNF0VdAajP_5pYG-jG2JRrG72s&index=20\">Tutorial em vídeo sobre JavaScript</a>"
   ]
  },
  {
   "cell_type": "markdown",
   "metadata": {},
   "source": [
    "#### AULA 25: Caminhos de arquivos\n",
    "\n",
    "<img src=\"./src/img/file-paths.png\">"
   ]
  },
  {
   "cell_type": "markdown",
   "metadata": {},
   "source": [
    "#### AULA 26: Elemento `<head>`\n",
    "\n",
    "###### O elemento `<head>` é um contêiner de metadados e pode conter os seguintes elementos: `<title>`, `<style>`, `<meta>`, `<link>`, `<script>` e `<base>`.\n",
    "\n",
    "###### `<title>` define o título do documento, deve conter somente texto e é exibido na aba da janela ou na barra de título do navegador. Também é um elemento obrigatório e é usado para SEO.\n",
    "\n",
    "###### `<style>` define as informações de estilo de uma página HTML.\n",
    "\n",
    "###### `<link>` define a relação entre o documento atual e um recurso externo, geralmente uma folha de estilo, mas também fontes e JS.\n",
    "\n",
    "###### `<meta>` especifica o conjunto de caracteres (p. ex. \"UTF-8\"), uma descrição da página, palavras-chave, o autor do documento e configurações de exibição para diferentes dispositivos (viewport). Os metadados não são exibidos na página, mas são usados por navegadores, mecanismos de pesquisa e outros serviços da Web.\n",
    "\n",
    "###### O \"viewport\" é a área de uma página Web que fica visível para o usuário. Ele varia de acordo com o dispositivo, e será menor em dispositivos móveis do que na tela de um computador. Inclua `<meta name=\"viewport\" content=\"width=device-width, initial-scale=1.0\">` em todas as páginas Web, para que o navegador receba instruções sobre como controlar as dimensões e o escalonamento da página. `width=device-width` define a largura da página para seguir a largura da tela do dispositivo, o que varia. `initial-scale=1.0` define o nível de zoom inicial ao carregar a página pela primeira vez.\n",
    "\n",
    "##### Ao definir `font-size` com a unidade `vw`, o texto se adéqua ao viewport!\n",
    "\n",
    "###### `<script>` define JS no lado do cliente, conforme discutido acima na AULA 24.\n",
    "\n",
    "###### `<base>` define o URL base e/ou o destino para todos os URLs relativos de uma página. Essa tag deve conter um atributo `href`, um atributo `target` ou ambos. <b>Só pode have um elemento desse no documento!</b>\n",
    "\n",
    "<a href=\"https://www.youtube.com/watch?v=WeuVX5x2MJE&list=PLP9IO4UYNF0VdAajP_5pYG-jG2JRrG72s&index=21\">Tutorial em vídeo sobre o elemento \"head\"</a>"
   ]
  },
  {
   "cell_type": "markdown",
   "metadata": {},
   "source": [
    "#### AULA 27: Códigos de computador e inserção do usuário\n",
    "\n",
    "##### Elemento `<kbd>`\n",
    "\n",
    "###### Esse elemento define inserção pelo teclado (keyboard input). O conteúdo nessa tag é exibido com uma fonte monoespaçada padrão no navegador.<br>P. ex. <kbd>Ctrl + S</kbd>.\n",
    "\n",
    "##### Elemento `<samp>`\n",
    "\n",
    "###### Esse elemento define o resultado de um programa executado no computador. O conteúdo nessa tag é exibido com uma fonte monoespaçada padrão no navegador.<br>P. ex. <samp>Arquivo não encontrado.<br>Pressione F1 para continuar.</samp>.\n",
    "\n",
    "##### Elemento `<code>`\n",
    "\n",
    "###### Esse elemento define um pedaço de código. O conteúdo nessa tag é exibido com uma fonte monoespaçada padrão no navegador.<br>P. ex. <code>x = 5;<br>y = 6;<br>z = x + y<br>print(z)</code>.\n",
    "\n",
    "###### Esse elemento não preserva espaços adicionais em branco ou quebras de linhas. Para corrigir isso, aninhe o elemento `<code>` em um elemento `<pre>`:\n",
    "###### <pre>\n",
    "###### <code>x = 5;\n",
    "###### y = 6;\n",
    "###### z = x + y;\n",
    "###### </code>\n",
    "###### </pre>\n",
    "\n",
    "##### Elemento `<var>` para variáveis\n",
    "\n",
    "###### Esse elemento define uma variável de progração ou de uma expressão matemática. O conteúdo nessa tag é exibido em itálico.<br>P. ex. The area of a triangle is:<br>1/2 x <var>b</var> x <var>h</var>,<br>where <var>b</var> is the base, and <var>h</var> is the vertical height."
   ]
  },
  {
   "cell_type": "markdown",
   "metadata": {},
   "source": [
    "#### AULA 28: Elementos semânticos\n",
    "\n",
    "###### São elementos que exibem seu significado claramente para o navegador e o desenvolvedor. Os elementos semânticos proporcionam uma Web semântica, o que possibilita que os dados sejam compartilhados e reutilizados entre aplicativos, empresas e comunidades.\n",
    "\n",
    "###### P. ex. `<div>` e `<span>` não informam qual é seu conteúdo; no entanto `<form>`, `<table>` e `<article>`, sim.\n",
    "\n",
    "##### Elemento `<section>`\n",
    "\n",
    "###### O elemento `<section>` define uma seção em um documento, que pode ser definida como \"um agrupamento temático de conteúdo, geralmente com um cabeçalho\".\n",
    "\n",
    "###### Exemplos de uso para o elemento `<section>`:\n",
    "\n",
    "###### - Capítulos\n",
    "###### - Introdução\n",
    "###### - Informações de contato\n",
    "###### - Novos itens\n",
    "\n",
    "###### - Uma página da Web geralmente apresenta as três primeiras seções mencionadas acima.\n",
    "\n",
    "##### Elemento `<article>`\n",
    "\n",
    "###### Esse elemento define um conteúdo independente e autocontido. Um artigo deve fazer sentido por si só, e deve poder ser distribuído independentemente do restante do site.\n",
    "\n",
    "###### Exemplos de uso para o elemento `<article>`:\n",
    "\n",
    "###### - Postagens em fóruns\n",
    "###### - Postagens em blogs\n",
    "###### - Comentários de usuários\n",
    "###### - Cartões de produtos\n",
    "###### - Artigos de jornais e revistas\n",
    "\n",
    "##### Elemento `<header>`\n",
    "\n",
    "###### Esse elemento representa um contêiner para um conteúdo introdutório ou um conjunto de links de navegação.\n",
    "\n",
    "###### Um elemento `<header>` geralmente contém:\n",
    "\n",
    "###### - Um ou mais elementos de cabeçalho (`<h1>`-`<h6>`)\n",
    "###### - Um logotipo ou um ícone\n",
    "###### - Informações sobre o autor\n",
    "\n",
    "##### Pode haver vários elementos `<header>` em um documento HTML, porém ele não pode ser aninhado nos seguintes elementos: `<footer>`, `<address>` ou outro `<header>`.\n",
    "\n",
    "##### Elemento `<footer>`\n",
    "\n",
    "###### Esse elemento define o rodapé de um documento ou uma seção.\n",
    "\n",
    "###### Um elemento `<footer>` geralmente contém:\n",
    "\n",
    "###### - Informações sobre o autor\n",
    "###### - Informações de copyright\n",
    "###### - Informações de contato\n",
    "###### - Um mapa do site\n",
    "###### - Links para voltar ao topo da página\n",
    "###### - Documentos relacionados\n",
    "\n",
    "##### Pode haver vários elementos `<footer>` em um documento HTML.\n",
    "\n",
    "##### Elemento `<nav>`\n",
    "\n",
    "###### Esse elemento define um conjunto de links de navegação. NEM TODOS os links de um documento devem ser colocados no elemento `<nav>`. Ele deve ser usado apenas para os principais blocos de links de navegação. Navegadores, como leitores de tela para usuários com alguma deficiência, podem usar este elemento para determinar se devem omitir o processamento inicial deste conteúdo.\n",
    "\n",
    "##### Elemento `<aside>`\n",
    "\n",
    "###### Esse elemento define um conteúdo ao lado do conteúdo em que está aninhado, como uma barra lateral. O conteúdo de `<aside>` deve estar indiretamente relacionado ao conteúdo que o rodeia.\n",
    "\n",
    "##### Elementos `<figure>` e `<figcaption>`\n",
    "\n",
    "###### A tag `<figure>` define um conteúdo autocontido, como ilustrações, diagramas, fotos, listagens de código, etc. A tag `<figcaption>` define uma legenda para um elemento `<figure>` e pode ser colocado como o primeiro ou o último filho de um elemento `<figure>`. O elemento `<img>` define a imagem/ilustração em si."
   ]
  },
  {
   "cell_type": "markdown",
   "metadata": {},
   "source": [
    "#### AULA 29: Entidades, símbolos e emojis\n",
    "\n",
    "##### Entidades de caracteres\n",
    "\n",
    "###### Caracteres reservados no HTML, como `<` e `>` devem ser substituídos por nomes ou números de entidades, como `&lt;` e `&gt;` ou `&#60;`.\n",
    "\n",
    "###### `&nome_da_entidade;` ou `&#número_da_entidade;`: NOTE A HASHTAG! Os nomes são mais fáceis de lembrar do que os números. Nomes de entidades diferenciam maiúsculas de minúsculas.\n",
    "\n",
    "##### Non-breaking space\n",
    "\n",
    "###### Um \"non-breaking space\", `&nbsp;`, é um caractere de espaço muito usado e que não quebra uma nova linha. Duas palavras separadas por essa entidade ficarão grudadas, e não serão separadas por uma nova linha. Isso é útil quando separar as palavras pode prejudicar a compreensão do texto, como em `§ 10`, `10 km/h` ou `10 PM`.\n",
    "\n",
    "###### Ele também impede que os navegadores trunquem os espaços em páginas HTML. Se você digitar 10 espaços em um texto, o navegador removerá 9 deles. Use essa entidade para manter todos os espaços desejados. O \"non-breaking hyphen\" (`&#8209;`) é usado para definir um caractere de hífen (`‑`) que não quebra em uma nova linha.\n",
    "\n",
    "###### <img src=\"./src/img/useful-entities.png\" />\n",
    "\n",
    "###### Outro tipo de entidade são os acentos. Alguns exemplos:\n",
    "\n",
    "###### <img src=\"./src/img/acentos.png\" />\n",
    "\n",
    "###### <img src=\"./src/img/math-symbols.png\" />\n",
    "\n",
    "###### <a href=\"https://www.w3schools.com/charsets/ref_utf_math.asp\">Lista completa de símbolos matemáticos</a>\n",
    "\n",
    "###### <img src=\"./src/img/greek-letters.png\" />\n",
    "\n",
    "###### <a href=\"https://www.w3schools.com/charsets/ref_utf_greek.asp\">Lista completa de letras gregas</a>\n",
    "\n",
    "###### <img src=\"./src/img/other-symbols.png\" />\n",
    "\n",
    "###### <a href=\"https://www.w3schools.com/charsets/ref_utf_currency.asp\">Lista completa de moedas</a>\n",
    "\n",
    "###### <a href=\"https://www.w3schools.com/charsets/ref_utf_arrows.asp\">Lista completa de setas</a>\n",
    "\n",
    "###### <a href=\"https://www.w3schools.com/charsets/ref_utf_symbols.asp\">Lista completa de símbolos</a>\n",
    "\n",
    "###### <img src=\"./src/img/emojis.png\" />\n",
    "\n",
    "###### <a href=\"https://www.w3schools.com/charsets/ref_emoji_smileys.asp\">Lista completa de emojis</a>"
   ]
  },
  {
   "cell_type": "markdown",
   "metadata": {},
   "source": [
    "#### AULA 30: Formulários\n",
    "\n",
    "###### Use um formulário HTML para coletar dados do usuário. Os dados coletados geralmente são enviados a um servidor para processamento.\n",
    "\n",
    "###### Use o elemento `<form>` para criar o formulário. Esse elemento pode conter diferentes tipos de elementos de inserção, como campos de texto, caixas de seleção, botões de opção, botões para enviar, etc. \n",
    "\n",
    "<a href=\"https://www.w3schools.com/html/html_form_elements.asp\">Elementos de formulário</a>\n",
    "\n",
    "###### O elemento de formulário mais utilizado é o `<input>`, que pode ser exibido de várias maneiras, de acordo com o atributo `type`.\n",
    "\n",
    "<a href=\"https://www.w3schools.com/html/html_form_input_types.asp\">Tipos de campos de inserção de formulário</a>\n",
    "\n",
    "###### `<input type=\"text\">` define um campo com uma única linha para inserção de texto.\n",
    "\n",
    "###### `<label>` define um rótulo para vários elementos de formulário e é útil para leitores de tela, que leem este campo quando o usuário coloca o mouse no elemento de inserção. Esse elemento também ajuda os usuários que têm dificuldade de clicar em regiões pequenas da tela (como botões de opção ou caixas de seleção), porque ao clicar no texto do elemento `<label>`, ele alterna o botão de opção ou a caixa de seleção. <b>O atributo `for` dessa tag deve ser igual ao atributo `id` do elemento `<input>` para que ambos sejam vinculados</b>.\n",
    "\n",
    "###### `<input type=\"radio\">` define um botão de opção, que permite ao usuário selecionar UMA das opções disponíveis.\n",
    "\n",
    "###### `<input type=\"checkbox\">` define uma caixa de seleção, que permite ao usuário selecionar ZERO ou MAIS das opções disponíveis.\n",
    "\n",
    "###### `<input type=\"submit\">` define um botão para enviar os dados do formulário para um manipulador de formulários. Esse manipulador geralmente é um arquivo no servidor com um script para processar dados inseridos. O manipulador deve ser especificado no atributo `action`.\n",
    "\n",
    "##### Cada campo de inserção deve ter um atributo `name`. Se este atributo não existir, o valor do campo não será enviado. \n",
    "\n",
    "<a href=\"https://www.youtube.com/watch?v=VLeERv_dR6Q&list=PLP9IO4UYNF0VdAajP_5pYG-jG2JRrG72s&index=24\">Tutorial em vídeo sobre formulários</a>"
   ]
  },
  {
   "cell_type": "markdown",
   "metadata": {},
   "source": [
    "#### AULA 31: Atributos de `<form>`\n",
    "\n",
    "###### O atributo `action` define qual ação realizar ao enviar o formulário. Geralmente, os dados do formulário são enviados para um arquivo no servidor. <b>Se omitir este atributo, a ação fica definida como a página atual.</b>\n",
    "\n",
    "###### O atributo `target` define onde exibir a resposta recebida após enviar o formulário, e pode ter um dos seguintes valores:\n",
    "\n",
    "###### - _blank: a resposta abre em uma nova janela ou aba\n",
    "###### - _self: valor padrão, a resposta abre na janela atual\n",
    "###### - _parent: a resposta abre no quadro pai\n",
    "###### - _top: a resposta abre no corpo inteiro da janela\n",
    "###### - nome-do-frame: a resposta abre no iframe nomeado\n",
    "\n",
    "###### O atributo `method` define o método HTTP a usar ao enviar os dados do formulário. Esses dados podem ser enviados como variáveis de URL (com método=\"get\") ou como pós-transações HTTP (com método=\"post\"). O padrão é GET.\n",
    "\n",
    "###### Observações sobre GET:\n",
    "###### - Anexa os dados do formulário ao URL, usando pares de nome/valor\n",
    "###### - NUNCA use GET para enviar dados confidenciais, os dados ficam visíveis no URL!\n",
    "###### - O comprimento de um URL é limitado (2048 caracteres)\n",
    "###### - Útil para envios de formulário em que o usuário deseja favoritar o resultado\n",
    "###### - GET funciona para dados não seguros, como sequências de caracteres de pesquisa no Google\n",
    "\n",
    "###### Observações sobre POST:\n",
    "###### - Anexa os dados do formulário dentro do corpo da solicitação HTTP (os dados enviados não são exibidos no URL)\n",
    "###### - POST não tem limite de tamanho, e pode ser usado para enviar grandes quantidades de dados.\n",
    "###### - Envios com POST não podem ser favoritados\n",
    "###### - SEMPRE use POST para dados confidenciais!\n",
    "\n",
    "###### O atributo `novalidate` é um booleano. Quando presente, define que os dados inseridos no formulário não devem ser validados após o envio.\n",
    "\n",
    "###### Outros atributos:\n",
    "###### - `accept-charset` (define a codificação de caracteres a ser usada no envio), `autocomplete` (define se o formulário terá o autocomplete ativado ou desativado), `enctype` (define como os dados serão codificados ao enviá-los para o servidor, apenas para method=\"post\"), `name` (define o nome do formulário), `rel` (define a relação entre um recurso vinculado e o documento atual)."
   ]
  },
  {
   "cell_type": "markdown",
   "metadata": {},
   "source": [
    "#### AULA 32: Elementos de formulário\n",
    "\n",
    "###### O elemento HTML `<form>` pode conter um ou mais dos seguintes elementos de formulário:\n",
    "\n",
    "###### - `<input>`: um dos elementos mais usados. Esse elemento pode ser exibido de várias maneira, dependendo do atributo `type`.\n",
    "###### - `<label>`: define um rótulo para vários elementos do formulário. O atributo `for` deve ser igual ao atributo `id` do elemento `<input>` para que os dois sejam vinculados.\n",
    "###### - `<select>`: define uma lista suspensa e deve aninhar o elemento `<option>` com as opções que aparecerão na lista suspensa. Use o atributo `size` para definir a quantidade de valores que ficam visíveis. Por padrão, o primeiro item da lista aparece selecionado; para alterar isso, use o atributo `selected` na opção desejada; este atributo não aceita valores, mas aparece por si só (`<option value=\"fiat\" selected>Fiat</option>`). Use o atributo `multiple` para que o usuário possa escolher mais de um valor. \n",
    "###### - `<textarea>`: define um campo de texto com várias linhas, isto é, uma área de texto. O atributo `rows` define a quantidade visível de linhas e o atributo `cols`, a largura da área de texto. Também é possível definir esse tamanho usando CSS: `style=\"width:200px; height:600px;\"`.\n",
    "###### - `<button>`: defines um botão que pode ser clicado. SEMPRE defina o atributo `type` para este elemento. Diferentes navegadores podem usar padrões diferentes para este elemento.\n",
    "###### - `<fieldset>`: usado para agrupar dados relacionados em um formulário. \n",
    "###### - `<legend>`: define uma legenda para o elemento `<fieldset>`.\n",
    "###### - `<datalist>`: define uma lista de opções pré-definidas para um elemento `<input>`. Os usuários verão uma lista suspensa de opções pré-definidas ao inserirem os dados. O atributo `list` do elemento `<input>` deve se referir ao atributo `id` do elemento `<datalist>`.\n",
    "###### - `<output>`: representa o resultado de um cálculo, como um realizado por um script. \n",
    "###### - `<option>`: define uma opção em uma lista suspensa. Usado com `<select>`, `<optgroup>` e `<datalist>`.\n",
    "###### - `<optgroup>`: define um grupo de opções relacionadas em uma lista suspensa."
   ]
  },
  {
   "cell_type": "markdown",
   "metadata": {},
   "source": [
    "#### AULA 33: Tipos de `<input>` (atributo `type`)\n",
    "\n",
    "###### - `<input type=\"button\">`: define um botão. \n",
    "###### - `<input type=\"checkbox\">`: define uma caixa de seleção e possibilita escolher ZERO ou MAIS opções entre as opções disponíveis.\n",
    "###### - `<input type=\"color\">`: usado para campos de inserção que devem conter cores. Dependendo do suporte do navegador, pode exibir um seletor de cores.\n",
    "###### - `<input type=\"date\">`: usado para campos de inserção que devem conter uma data. Dependendo do suporte do navegador, pode exibir um seletor de datas. Use os atributos `min` e `max` para restringir das datas.\n",
    "###### - `<input type=\"datetime-local\">`: define um campo de inserção de data e hora, sem fuso horário. Dependendo do suporte do navegador, pode exibir um seletor de datas.\n",
    "###### - `<input type=\"email\">`: usado para campos de texto que devem conter um endereço de e-mail. Dependendo do suporte do navegador, o endereço de e-mail pode ser validado automaticamente após o envio. Alguns smartphones reconhecem esse tipo e adicionam \".com\" ao teclado.\n",
    "###### - `<input type=\"file\">`: define um campo de seleção de arquivo e um botão \"Navegar\" para carregar arquivos.\n",
    "###### - `<input type=\"hidden\">`: define um campo de inserção oculto, que não fica visível para o usuário. Assim, os desenvolvedores podem incluir dados que não pode ser visto ou alterado pelos usuários ao enviar o formulário. Esse tipo de campo geralmente armazena qual registro de banco de dados precisa ser atualizado ao enviar o formulário. <b>Apesar de o valor não ser exibido para o usuário no conteúdo da página, ele ainda fica visível, e pode ser editado, usando as ferramentas de desenvolvedor do navegador ou o recurso \"Exibir código fonte\". Não use esse tipo como forma de segurança!</b>\n",
    "###### - `<input type=\"image\">`: define uma imagem como o botão de envio. O caminho para a imagem deve ser definido no atributo `src`.\n",
    "###### - `<input type=\"month\">`: possibilita selecionar um mês e um ano. Dependendo do suporte do navegador, pode exibir um seletor de datas.\n",
    "###### - `<input type=\"number\">`: define um campo de inserção numérico. Também é possível definir restrições para os números aceitos.\n",
    "###### - `<input type=\"password\">`: define um campo de senha.\n",
    "###### - `<input type=\"radio\">`: define um botão de opção. Esse tipo possibilita escolher APENAS UMA opção entre as opções disponíveis.\n",
    "###### - `<input type=\"range\">`: define um controle para inserir um número, cujo valor exato não é importante (como um slider). O intervalo padrão é 0 a 100, no entanto é possível definir restrições para quais números serão aceitos com os atributos `min`, `max` e `step`.\n",
    "###### - `<input type=\"reset\">`: define um botão para redefinir todos os valores do formulário ao valor original.\n",
    "###### - `<input type=\"search\">`: usado para campos de pesquisa; comporta-se como um campo de texto comum.\n",
    "###### - `<input type=\"submit\">`: define um botão para enviar os dados do formulário a um manipulador, que geralmente é uma página no servidor com um script para processar os dados inseridos. Especifique o manipulador no atributo `action`.\n",
    "###### - `<input type=\"tel\">`: usado para campos de inserção que devem  conter números de telefone.\n",
    "###### - `<input type=\"text\">`: valor padrão, define um campo de texto com uma única linha. \n",
    "###### - `<input type=\"time\">`: possibilita selecionar uma hora, sem fuso horário. Dependendo do suporte do navegador, pode exibir um seletor de horas.\n",
    "###### - `<input type=\"url\">`: usado para campos que precisam conter um endereço de URL. Dependendo do suporte do navegador, o endereço do URL pode ser validado automaticamente após o envio. Alguns smartphones reconhecem esse tipo e adicionam \".com\" ao teclado. Precisa inserir `http(s)://` antes do endereço.\n",
    "###### - `<input type=\"week\">`: possibilita selecionar uma semana e um ano. Dependendo do suporte do navegador, pode exibir um seletor de datas."
   ]
  },
  {
   "cell_type": "markdown",
   "metadata": {},
   "source": [
    "#### AULA 34: Atributos de `<input>`\n",
    "\n",
    "###### - `value` define o valor inicial de um campo de inserção. \n",
    "###### - `readonly` define que um campo de inserção é somente leitura e não pode ser alterado. Porém, ao usar a tecla \"tab\", o usuário passa pelo campo, també é possível realçá-lo e copiar o texto contido nele. O valor de um campo somente leitura será enviado com o formulário.\n",
    "###### - `disabled` define que um campo de inserção deve ser desativado. Com isso ele não pode ser clicado e fica inutilizável. Com esse atributo, o valor do campo NÃO é enviado com o formulário.\n",
    "###### - `size` define a largura visível de um campo, em caracteres. O valor padrão é 20. Funciona com os seguintes tipos de campo: `text`, `search`, `tel`, `url`, `email` e `password`. Esse é só o tamanho do campo na tela, não impede o usuário de digitar além desse valor.\n",
    "###### - `maxlength` define a quantidade máxima de caracteres permitida em um campo. <b>Ao definir esse atributo, o campo de inserção não aceitará mais do que a quantidade especificada de caracteres. Entretanto, este atributo não retorna qualquer feedback, então, para alertar o usuário, crie um código JavaScript.</b> Esse atributo IMPEDE digitar mais caracteres do que o definido.\n",
    "###### - `min` e `max` definem os valores mínimo e máximo de um campo. Funcionam com os seguintes tipos: `number`, `range`, `date`, `datetime-local`, `month`, `time` e `week`. Use esses atributos juntos para criar um intervalo de valores possíveis.\n",
    "###### - `multiple` define que o usuário pode inserir mais de um valor em um campo. Funciona com os seguintes tipos: `email` e `file`.\n",
    "###### - `pattern` define uma expressão regular (regex) para validar a inserção no campo ao enviar o formulário. Funciona com os seguintes tipos: `text`, `date`, `search`, `url`, `tel`, `email` e `password`. <b>Use o atributo global `title` para descrever o padrão, a fim de ajudar o usuário.</b>\n",
    "###### - `placeholder` define uma breve dica que descreve o valor esperado para o campo, isto é, uma amostra do formato esperado. Essa dica é exibida no campo antes de o usuário inserir o valor. Funciona com os seguintes tipos: `text`, `search`, `url`, `number`, `tel`, `email` e `password`.\n",
    "###### - `required` define um campo obrigatório. Funciona com os seguintes tipos: `text`, `search`, `url`, `tel`, `email`, `password`, seletores de data e hora, `number`, `checkbox`, `radio` e `file`.\n",
    "###### - `step` define um intervalo válido para um campo. <b>Use com `max` e `min` para definir um intervalo de valores válidos.</b> Funciona com os seguintes topos: `number`, `range`, `date`, `datetime-local`, `month`, `time` e `week`.\n",
    "###### - `autofocus` define que um campo deve ser selecionado automaticamente quando a página carrega.\n",
    "###### - `height` e `width` definem a altura e a largura de um elemento `<input type=\"image\">`. <b>Sempre define esses atributos para imagens, porque assim o espaço necessário para a imagem é reservado quando a página carrega. Sem eles, o navegador não sabe o tamanho da imagem e não pode reservar o espaço apropriado para ela e, assim, o layout da página pode mudar durante o carregamento.</b>\n",
    "###### - `list` refere-se ao elemento `<datalist>`, que contém opções pré-definidas para o elemento `<input>`. \n",
    "###### - `autocomplete` define se um formulário ou campo deve ou não ter a opção de preenchimento automático. Isso possibilita que o navegador preveja o valor. Quando o usuário começa a digitar em um campo, o navegador exibe  opções para preencher o campo com base em valores digitados anteriormente. Funciona com `<form>` e os seguintes tipos de `<input>`: `text`, `search`, `url`, `tel`, `email`, `password`, seletores de data e hora, `range` e `color`.\n",
    "\n",
    "<a href=\"https://www.w3schools.com/html/html_form_attributes_form.asp\">Mais atributos</a>"
   ]
  },
  {
   "cell_type": "markdown",
   "metadata": {},
   "source": [
    "#### AULA 35: Gráficos\n",
    "\n",
    "###### `<canvas>`: usado para desenhar gráficos via JavaScript. Esse elemento é apenas um contêiner para os gráficos, é preciso usar JavaScript para desenhá-los. Há vários métodos para desenhar caminhos, caixas, círculos, texto e adicionar imagens. A maioria dos navegadores oferece suporte para este elemento.\n",
    "\n",
    "###### É uma área retangular em uma página HTML. Por padrão, não tem borda, nem conteúdo.\n",
    "\n",
    "###### `SVG` = Scalable Vector Graphics. Defines gráficos baseados em vetores para XML, e podem ser incorporados diretamente em páginas HTML. São escalonáveis e não perdem a qualidade com zoom ou redimensionamento. A maioria dos navegadores oferece suporte para SVG. Para usar gráficos desse tipo, use o elemento `<svg>`.\n",
    "\n",
    "###### Cada elemento e atributo de arquivos SVG pode ser animado.\n",
    "###### Integra-se a outros padrões, como CSS, DOM, XSL and JavaScript.\n",
    "\n",
    "##### Diferenças entre SVG e Canvas\n",
    "\n",
    "###### SVG é uma linguagem para descrever gráficos 2D em XML, enquanto Canvas desenha gráficos 2D com JavaScript.\n",
    "###### SVG é baseado em XML, o que significa que cada elemento está disponível no SVG DOM. É possível vincular manipuladores de evento JavaScript a gráficos SVG.\n",
    "###### Em SVG, cada forma desenhada é armazenada como um objeto. Se os atributos de um objeto SVG forem alterados, o navegador pode processar imediatamente a imagem.\n",
    "###### Canvas é processado pixel por pixel. Quando o gráfico é desenhado, o navegador o esquece imediatamente. Se sua posição mudar, ele precisa ser redesenhado do zero, incluindo quaisuqer objetos que possam ter sido coberto pelo gráfico.\n",
    "\n",
    "<img src=\"./src/img/svg-versus-canvas.png\" />"
   ]
  },
  {
   "cell_type": "markdown",
   "metadata": {},
   "source": [
    "#### AULA 36: Mídia\n",
    "\n",
    "###### "
   ]
  }
 ],
 "metadata": {
  "kernelspec": {
   "display_name": "Python 3",
   "language": "python",
   "name": "python3"
  },
  "language_info": {
   "codemirror_mode": {
    "name": "ipython",
    "version": 3
   },
   "file_extension": ".py",
   "mimetype": "text/x-python",
   "name": "python",
   "nbconvert_exporter": "python",
   "pygments_lexer": "ipython3",
   "version": "3.12.3"
  }
 },
 "nbformat": 4,
 "nbformat_minor": 2
}
